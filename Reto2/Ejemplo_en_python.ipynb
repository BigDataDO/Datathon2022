{
 "cells": [
  {
   "cell_type": "markdown",
   "id": "4f663682",
   "metadata": {},
   "source": [
    "# Código de Introducción"
   ]
  },
  {
   "cell_type": "code",
   "execution_count": 1,
   "id": "44cd1e8d",
   "metadata": {},
   "outputs": [],
   "source": [
    "import pandas as pd\n",
    "import numpy as np\n",
    "from sklearn.metrics import f1_score, make_scorer\n",
    "from sklearn.model_selection import KFold, cross_val_score"
   ]
  },
  {
   "cell_type": "code",
   "execution_count": 2,
   "id": "21f56d50",
   "metadata": {},
   "outputs": [],
   "source": [
    "# Esta es la función que evaluará sus resultados. NO MODIFICAR\n",
    "def evaluate(model, X, Y):\n",
    "    strat_k_fold = KFold(n_splits=3, shuffle=True, random_state=2022)\n",
    "    scorer = make_scorer(f1_score, average='macro')\n",
    "    return np.mean(cross_val_score(model, X, Y, scoring = scorer, cv = strat_k_fold))"
   ]
  },
  {
   "cell_type": "code",
   "execution_count": 3,
   "id": "6121e568",
   "metadata": {},
   "outputs": [],
   "source": [
    "# Leemos los datos\n",
    "df = pd.read_csv('crime_data.csv', encoding = 'utf-8')"
   ]
  },
  {
   "cell_type": "markdown",
   "id": "4d155667",
   "metadata": {},
   "source": [
    "### Columna a predecir: TARGET "
   ]
  },
  {
   "cell_type": "markdown",
   "id": "401ab6a6",
   "metadata": {},
   "source": [
    "# Modificar de aquí en adelante:"
   ]
  },
  {
   "cell_type": "code",
   "execution_count": 4,
   "id": "c21027ec",
   "metadata": {},
   "outputs": [
    {
     "data": {
      "text/html": [
       "<div>\n",
       "<style scoped>\n",
       "    .dataframe tbody tr th:only-of-type {\n",
       "        vertical-align: middle;\n",
       "    }\n",
       "\n",
       "    .dataframe tbody tr th {\n",
       "        vertical-align: top;\n",
       "    }\n",
       "\n",
       "    .dataframe thead th {\n",
       "        text-align: right;\n",
       "    }\n",
       "</style>\n",
       "<table border=\"1\" class=\"dataframe\">\n",
       "  <thead>\n",
       "    <tr style=\"text-align: right;\">\n",
       "      <th></th>\n",
       "      <th>X</th>\n",
       "      <th>Y</th>\n",
       "      <th>DATETIME</th>\n",
       "      <th>TARGET</th>\n",
       "    </tr>\n",
       "  </thead>\n",
       "  <tbody>\n",
       "    <tr>\n",
       "      <th>0</th>\n",
       "      <td>-76.609354</td>\n",
       "      <td>39.323543</td>\n",
       "      <td>2017-08-16 12:00:00+00:00</td>\n",
       "      <td>HURTO</td>\n",
       "    </tr>\n",
       "    <tr>\n",
       "      <th>1</th>\n",
       "      <td>-76.422343</td>\n",
       "      <td>38.737998</td>\n",
       "      <td>2018-09-02 14:00:00+00:00</td>\n",
       "      <td>FALSO</td>\n",
       "    </tr>\n",
       "    <tr>\n",
       "      <th>2</th>\n",
       "      <td>-76.610679</td>\n",
       "      <td>39.278321</td>\n",
       "      <td>2020-11-13 17:00:00+00:00</td>\n",
       "      <td>HURTO</td>\n",
       "    </tr>\n",
       "    <tr>\n",
       "      <th>3</th>\n",
       "      <td>-76.652626</td>\n",
       "      <td>39.266496</td>\n",
       "      <td>2017-01-27 16:00:00+00:00</td>\n",
       "      <td>HURTO</td>\n",
       "    </tr>\n",
       "    <tr>\n",
       "      <th>4</th>\n",
       "      <td>-76.543437</td>\n",
       "      <td>39.345509</td>\n",
       "      <td>2021-04-25 02:00:00+00:00</td>\n",
       "      <td>ASALTO</td>\n",
       "    </tr>\n",
       "    <tr>\n",
       "      <th>...</th>\n",
       "      <td>...</td>\n",
       "      <td>...</td>\n",
       "      <td>...</td>\n",
       "      <td>...</td>\n",
       "    </tr>\n",
       "    <tr>\n",
       "      <th>256365</th>\n",
       "      <td>-76.659559</td>\n",
       "      <td>39.346380</td>\n",
       "      <td>2019-03-27 00:00:00+00:00</td>\n",
       "      <td>ROBO</td>\n",
       "    </tr>\n",
       "    <tr>\n",
       "      <th>256366</th>\n",
       "      <td>-76.593859</td>\n",
       "      <td>39.290486</td>\n",
       "      <td>2018-09-05 23:00:00+00:00</td>\n",
       "      <td>ASALTO</td>\n",
       "    </tr>\n",
       "    <tr>\n",
       "      <th>256367</th>\n",
       "      <td>-76.547029</td>\n",
       "      <td>39.346080</td>\n",
       "      <td>2018-10-26 22:00:00+00:00</td>\n",
       "      <td>ASALTO</td>\n",
       "    </tr>\n",
       "    <tr>\n",
       "      <th>256368</th>\n",
       "      <td>-76.683097</td>\n",
       "      <td>39.335443</td>\n",
       "      <td>2021-08-08 16:00:00+00:00</td>\n",
       "      <td>ASALTO</td>\n",
       "    </tr>\n",
       "    <tr>\n",
       "      <th>256369</th>\n",
       "      <td>-76.650142</td>\n",
       "      <td>39.279870</td>\n",
       "      <td>2019-09-05 00:00:00+00:00</td>\n",
       "      <td>HURTO</td>\n",
       "    </tr>\n",
       "  </tbody>\n",
       "</table>\n",
       "<p>256370 rows × 4 columns</p>\n",
       "</div>"
      ],
      "text/plain": [
       "                X          Y                   DATETIME  TARGET\n",
       "0      -76.609354  39.323543  2017-08-16 12:00:00+00:00   HURTO\n",
       "1      -76.422343  38.737998  2018-09-02 14:00:00+00:00   FALSO\n",
       "2      -76.610679  39.278321  2020-11-13 17:00:00+00:00   HURTO\n",
       "3      -76.652626  39.266496  2017-01-27 16:00:00+00:00   HURTO\n",
       "4      -76.543437  39.345509  2021-04-25 02:00:00+00:00  ASALTO\n",
       "...           ...        ...                        ...     ...\n",
       "256365 -76.659559  39.346380  2019-03-27 00:00:00+00:00    ROBO\n",
       "256366 -76.593859  39.290486  2018-09-05 23:00:00+00:00  ASALTO\n",
       "256367 -76.547029  39.346080  2018-10-26 22:00:00+00:00  ASALTO\n",
       "256368 -76.683097  39.335443  2021-08-08 16:00:00+00:00  ASALTO\n",
       "256369 -76.650142  39.279870  2019-09-05 00:00:00+00:00   HURTO\n",
       "\n",
       "[256370 rows x 4 columns]"
      ]
     },
     "execution_count": 4,
     "metadata": {},
     "output_type": "execute_result"
    }
   ],
   "source": [
    "df"
   ]
  },
  {
   "cell_type": "code",
   "execution_count": 5,
   "id": "3828ea6a",
   "metadata": {},
   "outputs": [],
   "source": [
    "# Convertimos DATETIME a un valor numérico para usarlo en el modelo\n",
    "df['DATETIME'] = pd.to_datetime(df['DATETIME'])\n",
    "df['DATETIME'] = df['DATETIME'].astype(np.int64)"
   ]
  },
  {
   "cell_type": "code",
   "execution_count": 8,
   "id": "6341f059",
   "metadata": {},
   "outputs": [
    {
     "data": {
      "text/plain": [
       "DecisionTreeClassifier(max_depth=5, random_state=42)"
      ]
     },
     "execution_count": 8,
     "metadata": {},
     "output_type": "execute_result"
    }
   ],
   "source": [
    "# Hagamos un modelo de árbol sencillo\n",
    "from sklearn.tree import DecisionTreeClassifier\n",
    "model = DecisionTreeClassifier(random_state=42, max_depth=5)\n",
    "X = df[['X', 'Y', 'DATETIME']]\n",
    "Y = df['TARGET']\n",
    "model.fit(X,Y)"
   ]
  },
  {
   "cell_type": "code",
   "execution_count": 9,
   "id": "f6866dfb",
   "metadata": {},
   "outputs": [
    {
     "data": {
      "text/plain": [
       "0.38548583428582467"
      ]
     },
     "execution_count": 9,
     "metadata": {},
     "output_type": "execute_result"
    }
   ],
   "source": [
    "evaluate(model, X, Y)"
   ]
  },
  {
   "cell_type": "code",
   "execution_count": null,
   "id": "653fab1f",
   "metadata": {},
   "outputs": [],
   "source": []
  }
 ],
 "metadata": {
  "kernelspec": {
   "display_name": "Python 3.8.8 ('base')",
   "language": "python",
   "name": "python3"
  },
  "language_info": {
   "codemirror_mode": {
    "name": "ipython",
    "version": 3
   },
   "file_extension": ".py",
   "mimetype": "text/x-python",
   "name": "python",
   "nbconvert_exporter": "python",
   "pygments_lexer": "ipython3",
   "version": "3.8.8"
  },
  "vscode": {
   "interpreter": {
    "hash": "ad2bdc8ecc057115af97d19610ffacc2b4e99fae6737bb82f5d7fb13d2f2c186"
   }
  }
 },
 "nbformat": 4,
 "nbformat_minor": 5
}
